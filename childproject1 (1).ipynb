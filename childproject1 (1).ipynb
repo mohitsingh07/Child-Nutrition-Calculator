{
 "cells": [
  {
   "cell_type": "code",
   "execution_count": null,
   "id": "aeb57cb9",
   "metadata": {},
   "outputs": [],
   "source": [
    "name = input(\"NAME \")\n",
    "age = int(input(\"AGE \"))\n",
    "height = float(input(\"HIEGHT \"))\n",
    "weight=float(input(\"WEIGHT \"))\n",
    "print()\n",
    "print(\"Calorie Consumption\")\n",
    "Milk = int(input(\"Milk \"))\n",
    "Vegetables= int(input(\"Vegetables \"))\n",
    "Meat = int(input(\"Meat \"))\n",
    "Lentils = int(input(\"Lentils \"))\n",
    "Egg = int(input(\"Egg \"))\n",
    "Rice =int(input(\"Rice \"))\n",
    "\n",
    "calMilk = (100/100)*Milk\n",
    "calVegetables= (155/100)*Vegetables\n",
    "calMeat = (130/100)*Meat\n",
    "calLentils = (113/100)*Lentils\n",
    "calEgg =  (85/100)*Egg \n",
    "calRice = (143/100)*Rice\n",
    "\n",
    "BMI =float(weight/(height**2)*703)\n",
    "\n",
    "if(BMI<16):\n",
    "    print(\"BMI of \" , name , \" is \"  , BMI, \"and he (she) is severly underweight\")\n",
    "elif(BMI<18.5):\n",
    "        print(\"BMI of \" , name , \" is \"  , BMI, \"and he (she) is underweight\")\n",
    "elif(BMI<25):\n",
    "            print(\"BMI of \" , name , \" is \"  , BMI ,\"and he (she) is healthy\")\n",
    "elif(BMI<30):\n",
    "                print(\"BMI of \" , name , \" is \"  , BMI ,\"and he (she) is overweight\")\n",
    "else:\n",
    "                    print(\"BMI of \" , name , \" is \"  , BMI , \"and he (she) is obese\")\n",
    "        \n",
    "cal=(int(calMilk)+int(calVegetables)+int(calMeat)+int(calLentils)+int(calEgg)+int(calRice))\n",
    "if((age)<=2 and cal==800):\n",
    "    print(\"The daily calorie consumption of \" , name , \"is\" , cal , \"and he (she) is not undernourished\")\n",
    "elif((age)<=4 and cal==1400):\n",
    "    print(\"The daily calorie consumption of \" , name , \"is\" , cal , \"and he (she) is not undernourished\")\n",
    "elif((age)<=8 and cal==1800):\n",
    "    print(\"The daily calorie consumption of \" , name , \"is\" , cal , \"and he (she) is not undernourished\")\n",
    "else:\n",
    "    print(\"The daily calorie consumption of \" , name , \"is\" , cal , \"and he (she) is  undernourished\")\n",
    "\n",
    "\n",
    "        \n",
    "    "
   ]
  },
  {
   "cell_type": "code",
   "execution_count": null,
   "id": "35b2222e",
   "metadata": {},
   "outputs": [],
   "source": []
  }
 ],
 "metadata": {
  "kernelspec": {
   "display_name": "Python 3 (ipykernel)",
   "language": "python",
   "name": "python3"
  },
  "language_info": {
   "codemirror_mode": {
    "name": "ipython",
    "version": 3
   },
   "file_extension": ".py",
   "mimetype": "text/x-python",
   "name": "python",
   "nbconvert_exporter": "python",
   "pygments_lexer": "ipython3",
   "version": "3.9.7"
  }
 },
 "nbformat": 4,
 "nbformat_minor": 5
}
